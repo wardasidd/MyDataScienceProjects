{
  "metadata": {
    "kernelspec": {
      "language": "python",
      "display_name": "Python 3",
      "name": "python3"
    },
    "language_info": {
      "name": "python",
      "version": "3.10.12",
      "mimetype": "text/x-python",
      "codemirror_mode": {
        "name": "ipython",
        "version": 3
      },
      "pygments_lexer": "ipython3",
      "nbconvert_exporter": "python",
      "file_extension": ".py"
    },
    "kaggle": {
      "accelerator": "none",
      "dataSources": [
        {
          "sourceId": 4832081,
          "sourceType": "datasetVersion",
          "datasetId": 2799910
        }
      ],
      "dockerImageVersionId": 30626,
      "isInternetEnabled": false,
      "language": "python",
      "sourceType": "notebook",
      "isGpuEnabled": false
    },
    "colab": {
      "name": "Salary Prediction- Linear Regression",
      "provenance": [],
      "include_colab_link": true
    }
  },
  "nbformat_minor": 0,
  "nbformat": 4,
  "cells": [
    {
      "cell_type": "markdown",
      "metadata": {
        "id": "view-in-github",
        "colab_type": "text"
      },
      "source": [
        "<a href=\"https://colab.research.google.com/github/wardasidd/MyDataScienceProjects/blob/main/Salary_Prediction_Linear_Regression.ipynb\" target=\"_parent\"><img src=\"https://colab.research.google.com/assets/colab-badge.svg\" alt=\"Open In Colab\"/></a>"
      ]
    },
    {
      "source": [
        "\n",
        "# IMPORTANT: RUN THIS CELL IN ORDER TO IMPORT YOUR KAGGLE DATA SOURCES\n",
        "# TO THE CORRECT LOCATION (/kaggle/input) IN YOUR NOTEBOOK,\n",
        "# THEN FEEL FREE TO DELETE THIS CELL.\n",
        "# NOTE: THIS NOTEBOOK ENVIRONMENT DIFFERS FROM KAGGLE'S PYTHON\n",
        "# ENVIRONMENT SO THERE MAY BE MISSING LIBRARIES USED BY YOUR\n",
        "# NOTEBOOK.\n",
        "\n",
        "import os\n",
        "import sys\n",
        "from tempfile import NamedTemporaryFile\n",
        "from urllib.request import urlopen\n",
        "from urllib.parse import unquote, urlparse\n",
        "from urllib.error import HTTPError\n",
        "from zipfile import ZipFile\n",
        "import tarfile\n",
        "import shutil\n",
        "\n",
        "CHUNK_SIZE = 40960\n",
        "DATA_SOURCE_MAPPING = 'salary-dataset-simple-linear-regression:https%3A%2F%2Fstorage.googleapis.com%2Fkaggle-data-sets%2F2799910%2F4832081%2Fbundle%2Farchive.zip%3FX-Goog-Algorithm%3DGOOG4-RSA-SHA256%26X-Goog-Credential%3Dgcp-kaggle-com%2540kaggle-161607.iam.gserviceaccount.com%252F20240825%252Fauto%252Fstorage%252Fgoog4_request%26X-Goog-Date%3D20240825T221358Z%26X-Goog-Expires%3D259200%26X-Goog-SignedHeaders%3Dhost%26X-Goog-Signature%3D90eb033970a561163d0472f0a1e1850b31daf8a9d9b8104d285467dff963aba263b53ff253a028e43c309d25ba1fb31a176bc3432c42c53734dbb8e09249c8a785fd56346cf811b5356185309664bec5156dc4061d0abe8e7b91120d125c0bfbd0ee658c4ef9dee32ea9864f42e58f395a4c3ff3a2c2066dade8ec3705736ff347f236696a74693bffca30a133b328f53cb2ff19fc077c5e07d8343d53991531a7dd134c75f89f954ef437ed6d0f9d226b602e68aa451b69a1a2ad8deda2825f45db59ed9a5d8a41ff56605cef89396bb30a22ae1cfd127f505593339f326b87d3fa70d8152984c8a00e6b5f2f7e1d1665e5eb709440fce74879f0935f026144'\n",
        "\n",
        "KAGGLE_INPUT_PATH='/kaggle/input'\n",
        "KAGGLE_WORKING_PATH='/kaggle/working'\n",
        "KAGGLE_SYMLINK='kaggle'\n",
        "\n",
        "!umount /kaggle/input/ 2> /dev/null\n",
        "shutil.rmtree('/kaggle/input', ignore_errors=True)\n",
        "os.makedirs(KAGGLE_INPUT_PATH, 0o777, exist_ok=True)\n",
        "os.makedirs(KAGGLE_WORKING_PATH, 0o777, exist_ok=True)\n",
        "\n",
        "try:\n",
        "  os.symlink(KAGGLE_INPUT_PATH, os.path.join(\"..\", 'input'), target_is_directory=True)\n",
        "except FileExistsError:\n",
        "  pass\n",
        "try:\n",
        "  os.symlink(KAGGLE_WORKING_PATH, os.path.join(\"..\", 'working'), target_is_directory=True)\n",
        "except FileExistsError:\n",
        "  pass\n",
        "\n",
        "for data_source_mapping in DATA_SOURCE_MAPPING.split(','):\n",
        "    directory, download_url_encoded = data_source_mapping.split(':')\n",
        "    download_url = unquote(download_url_encoded)\n",
        "    filename = urlparse(download_url).path\n",
        "    destination_path = os.path.join(KAGGLE_INPUT_PATH, directory)\n",
        "    try:\n",
        "        with urlopen(download_url) as fileres, NamedTemporaryFile() as tfile:\n",
        "            total_length = fileres.headers['content-length']\n",
        "            print(f'Downloading {directory}, {total_length} bytes compressed')\n",
        "            dl = 0\n",
        "            data = fileres.read(CHUNK_SIZE)\n",
        "            while len(data) > 0:\n",
        "                dl += len(data)\n",
        "                tfile.write(data)\n",
        "                done = int(50 * dl / int(total_length))\n",
        "                sys.stdout.write(f\"\\r[{'=' * done}{' ' * (50-done)}] {dl} bytes downloaded\")\n",
        "                sys.stdout.flush()\n",
        "                data = fileres.read(CHUNK_SIZE)\n",
        "            if filename.endswith('.zip'):\n",
        "              with ZipFile(tfile) as zfile:\n",
        "                zfile.extractall(destination_path)\n",
        "            else:\n",
        "              with tarfile.open(tfile.name) as tarfile:\n",
        "                tarfile.extractall(destination_path)\n",
        "            print(f'\\nDownloaded and uncompressed: {directory}')\n",
        "    except HTTPError as e:\n",
        "        print(f'Failed to load (likely expired) {download_url} to path {destination_path}')\n",
        "        continue\n",
        "    except OSError as e:\n",
        "        print(f'Failed to load {download_url} to path {destination_path}')\n",
        "        continue\n",
        "\n",
        "print('Data source import complete.')\n"
      ],
      "metadata": {
        "id": "IG4u2mpqmnHX"
      },
      "cell_type": "code",
      "outputs": [],
      "execution_count": null
    },
    {
      "cell_type": "code",
      "source": [
        "# This Python 3 environment comes with many helpful analytics libraries installed\n",
        "# It is defined by the kaggle/python Docker image: https://github.com/kaggle/docker-python\n",
        "# For example, here's several helpful packages to load\n",
        "\n",
        "import numpy as np # linear algebra\n",
        "import pandas as pd # data processing, CSV file I/O (e.g. pd.read_csv)\n",
        "\n",
        "# Input data files are available in the read-only \"../input/\" directory\n",
        "# For example, running this (by clicking run or pressing Shift+Enter) will list all files under the input directory\n",
        "\n",
        "import os\n",
        "for dirname, _, filenames in os.walk('/kaggle/input'):\n",
        "    for filename in filenames:\n",
        "        print(os.path.join(dirname, filename))\n",
        "\n",
        "# You can write up to 20GB to the current directory (/kaggle/working/) that gets preserved as output when you create a version using \"Save & Run All\"\n",
        "# You can also write temporary files to /kaggle/temp/, but they won't be saved outside of the current session"
      ],
      "metadata": {
        "_uuid": "8f2839f25d086af736a60e9eeb907d3b93b6e0e5",
        "_cell_guid": "b1076dfc-b9ad-4769-8c92-a6c4dae69d19",
        "execution": {
          "iopub.status.busy": "2023-12-14T10:12:28.189053Z",
          "iopub.execute_input": "2023-12-14T10:12:28.190476Z",
          "iopub.status.idle": "2023-12-14T10:12:28.728219Z",
          "shell.execute_reply.started": "2023-12-14T10:12:28.190421Z",
          "shell.execute_reply": "2023-12-14T10:12:28.726567Z"
        },
        "trusted": true,
        "id": "AD6YQg43mnHa"
      },
      "execution_count": null,
      "outputs": []
    },
    {
      "cell_type": "code",
      "source": [
        "#Importing all important libraries\n",
        "import pandas as pd\n",
        "import numpy as np\n",
        "import seaborn as sns\n",
        "import matplotlib.pyplot as plt\n",
        "import plotly.express as ex\n",
        "import plotly.graph_objects as gb\n",
        "from sklearn.linear_model import LinearRegression\n",
        "from sklearn.model_selection import train_test_split\n",
        "from sklearn.metrics import mean_squared_error, r2_score"
      ],
      "metadata": {
        "execution": {
          "iopub.status.busy": "2023-12-14T10:17:04.596491Z",
          "iopub.execute_input": "2023-12-14T10:17:04.597001Z",
          "iopub.status.idle": "2023-12-14T10:17:04.605103Z",
          "shell.execute_reply.started": "2023-12-14T10:17:04.596965Z",
          "shell.execute_reply": "2023-12-14T10:17:04.603589Z"
        },
        "trusted": true,
        "id": "o-zj6QnpmnHa"
      },
      "execution_count": null,
      "outputs": []
    },
    {
      "cell_type": "code",
      "source": [
        "df= pd.read_csv(\"/kaggle/input/salary-dataset-simple-linear-regression/Salary_dataset.csv\")\n",
        "print (df)"
      ],
      "metadata": {
        "execution": {
          "iopub.status.busy": "2023-12-14T10:17:47.993799Z",
          "iopub.execute_input": "2023-12-14T10:17:47.994266Z",
          "iopub.status.idle": "2023-12-14T10:17:48.032883Z",
          "shell.execute_reply.started": "2023-12-14T10:17:47.99423Z",
          "shell.execute_reply": "2023-12-14T10:17:48.031743Z"
        },
        "trusted": true,
        "id": "0LWGumx1mnHa"
      },
      "execution_count": null,
      "outputs": []
    },
    {
      "cell_type": "code",
      "source": [
        "#checking the non-null count along with datatype for each column\n",
        "df.info()"
      ],
      "metadata": {
        "execution": {
          "iopub.status.busy": "2023-12-14T10:18:08.928512Z",
          "iopub.execute_input": "2023-12-14T10:18:08.928937Z",
          "iopub.status.idle": "2023-12-14T10:18:08.965239Z",
          "shell.execute_reply.started": "2023-12-14T10:18:08.928906Z",
          "shell.execute_reply": "2023-12-14T10:18:08.963964Z"
        },
        "trusted": true,
        "id": "2UHqCkExmnHa"
      },
      "execution_count": null,
      "outputs": []
    },
    {
      "cell_type": "code",
      "source": [
        "#checking for unique values to decide if we need to drop any column\n",
        "df.nunique()"
      ],
      "metadata": {
        "execution": {
          "iopub.status.busy": "2023-12-14T10:18:39.909355Z",
          "iopub.execute_input": "2023-12-14T10:18:39.909766Z",
          "iopub.status.idle": "2023-12-14T10:18:39.922874Z",
          "shell.execute_reply.started": "2023-12-14T10:18:39.909737Z",
          "shell.execute_reply": "2023-12-14T10:18:39.921937Z"
        },
        "trusted": true,
        "id": "J4m3eP0PmnHb"
      },
      "execution_count": null,
      "outputs": []
    },
    {
      "cell_type": "code",
      "source": [
        "#Visualizing the dataset properly\n",
        "fig=ex.scatter(data_frame=df,x=\"YearsExperience\",y=\"Salary\",size=\"YearsExperience\",trendline='ols')\n",
        "fig.show()"
      ],
      "metadata": {
        "execution": {
          "iopub.status.busy": "2023-12-14T10:21:43.466284Z",
          "iopub.execute_input": "2023-12-14T10:21:43.466719Z",
          "iopub.status.idle": "2023-12-14T10:21:45.375856Z",
          "shell.execute_reply.started": "2023-12-14T10:21:43.466687Z",
          "shell.execute_reply": "2023-12-14T10:21:45.374441Z"
        },
        "trusted": true,
        "id": "vaGqMHeZmnHb"
      },
      "execution_count": null,
      "outputs": []
    },
    {
      "cell_type": "code",
      "source": [
        "#dropping the unnamed column that was used for indexing purpose\n",
        "df.drop('Unnamed: 0', axis=1, inplace=True)"
      ],
      "metadata": {
        "execution": {
          "iopub.status.busy": "2023-12-14T10:25:27.163702Z",
          "iopub.execute_input": "2023-12-14T10:25:27.164263Z",
          "iopub.status.idle": "2023-12-14T10:25:27.172878Z",
          "shell.execute_reply.started": "2023-12-14T10:25:27.164226Z",
          "shell.execute_reply": "2023-12-14T10:25:27.171407Z"
        },
        "trusted": true,
        "id": "PYNQvs4kmnHb"
      },
      "execution_count": null,
      "outputs": []
    },
    {
      "cell_type": "code",
      "source": [
        "#checking the information about the dataframe\n",
        "df.info()"
      ],
      "metadata": {
        "execution": {
          "iopub.status.busy": "2023-12-14T10:25:36.365559Z",
          "iopub.execute_input": "2023-12-14T10:25:36.366179Z",
          "iopub.status.idle": "2023-12-14T10:25:36.38109Z",
          "shell.execute_reply.started": "2023-12-14T10:25:36.366111Z",
          "shell.execute_reply": "2023-12-14T10:25:36.380233Z"
        },
        "trusted": true,
        "id": "RM5O1o6XmnHb"
      },
      "execution_count": null,
      "outputs": []
    },
    {
      "cell_type": "code",
      "source": [
        "# Extracting features and target variable from the dataframe 'df'\n",
        "# 'X' will contain all columns except the last one as features\n",
        "# 'y' will contain the last column as the target variable\n",
        "X=df.iloc[:,:-1]\n",
        "y=df.iloc[:,-1]"
      ],
      "metadata": {
        "execution": {
          "iopub.status.busy": "2023-12-14T10:27:19.9959Z",
          "iopub.execute_input": "2023-12-14T10:27:19.996328Z",
          "iopub.status.idle": "2023-12-14T10:27:20.003191Z",
          "shell.execute_reply.started": "2023-12-14T10:27:19.996296Z",
          "shell.execute_reply": "2023-12-14T10:27:20.001628Z"
        },
        "trusted": true,
        "id": "9aJlYwkpmnHb"
      },
      "execution_count": null,
      "outputs": []
    },
    {
      "cell_type": "code",
      "source": [
        "#splitting the data into train and test data\n",
        "(X_train, X_test, y_train, y_test) = train_test_split(X, y, test_size=0.2, random_state=42)"
      ],
      "metadata": {
        "execution": {
          "iopub.status.busy": "2023-12-14T10:27:58.92737Z",
          "iopub.execute_input": "2023-12-14T10:27:58.927845Z",
          "iopub.status.idle": "2023-12-14T10:27:58.936087Z",
          "shell.execute_reply.started": "2023-12-14T10:27:58.927814Z",
          "shell.execute_reply": "2023-12-14T10:27:58.935032Z"
        },
        "trusted": true,
        "id": "QKNzZnLPmnHc"
      },
      "execution_count": null,
      "outputs": []
    },
    {
      "cell_type": "code",
      "source": [
        "#fitting the model\n",
        "lr=LinearRegression().fit(X_train,y_train)\n",
        "lr"
      ],
      "metadata": {
        "execution": {
          "iopub.status.busy": "2023-12-14T10:29:34.079363Z",
          "iopub.execute_input": "2023-12-14T10:29:34.080788Z",
          "iopub.status.idle": "2023-12-14T10:29:34.097224Z",
          "shell.execute_reply.started": "2023-12-14T10:29:34.080735Z",
          "shell.execute_reply": "2023-12-14T10:29:34.095337Z"
        },
        "trusted": true,
        "id": "_IuadfbBmnHc"
      },
      "execution_count": null,
      "outputs": []
    },
    {
      "cell_type": "code",
      "source": [
        "#making predictions on Train and Test data\n",
        "y_train_pred = lr.predict(X_train)\n",
        "y_test_pred = lr.predict(X_test)"
      ],
      "metadata": {
        "execution": {
          "iopub.status.busy": "2023-12-14T10:30:38.35965Z",
          "iopub.execute_input": "2023-12-14T10:30:38.360087Z",
          "iopub.status.idle": "2023-12-14T10:30:38.36996Z",
          "shell.execute_reply.started": "2023-12-14T10:30:38.360055Z",
          "shell.execute_reply": "2023-12-14T10:30:38.368333Z"
        },
        "trusted": true,
        "id": "FmzQIo3ImnHc"
      },
      "execution_count": null,
      "outputs": []
    },
    {
      "cell_type": "markdown",
      "source": [
        "# Mean Squared Error (MSE)\n",
        "\n",
        "Mean Squared Error (MSE) is a common metric used for measuring the accuracy of a regression model. It calculates the average squared difference between the estimated values and the actual value.\n",
        "\n",
        "# R² Score (Coefficient of Determination)\n",
        "\n",
        "R² Score, also known as the coefficient of determination, is a statistical measure that represents the proportion of the variance for the dependent variable that's explained by the independent variables in a regression model.\n",
        "\n"
      ],
      "metadata": {
        "id": "gDfgM1M_mnHc"
      }
    },
    {
      "cell_type": "code",
      "source": [
        "#Determining the metrics for Linear Regression\n",
        "train_rme=mean_squared_error(y_train,y_train_pred)\n",
        "test_rme=mean_squared_error(y_test,y_test_pred)\n",
        "train_r2=r2_score(y_train,y_train_pred)\n",
        "test_r2=r2_score(y_test,y_test_pred)\n",
        "print(f\"train_rme: {train_rme}\\n\"\n",
        "      f\"test_rme: {test_rme}\\n\"\n",
        "      f\"train_r2: {train_r2}\\n\"\n",
        "      f\"test_r2: {test_r2}\")"
      ],
      "metadata": {
        "execution": {
          "iopub.status.busy": "2023-12-14T10:53:32.964593Z",
          "iopub.execute_input": "2023-12-14T10:53:32.965029Z",
          "iopub.status.idle": "2023-12-14T10:53:32.974944Z",
          "shell.execute_reply.started": "2023-12-14T10:53:32.964997Z",
          "shell.execute_reply": "2023-12-14T10:53:32.973981Z"
        },
        "trusted": true,
        "id": "WoKbXeEVmnHd"
      },
      "execution_count": null,
      "outputs": []
    },
    {
      "cell_type": "code",
      "source": [
        "# Create DataFrames for training and testing datasets\n",
        "train_data = pd.DataFrame({'Actual': y_train.ravel(), 'Predicted': y_train_pred.ravel(), 'Dataset': 'Training'})\n",
        "test_data = pd.DataFrame({'Actual': y_test.ravel(), 'Predicted': y_test_pred.ravel(), 'Dataset': 'Testing'})\n",
        "\n",
        "# Concatenate both DataFrames\n",
        "combined_data = pd.concat([train_data, test_data], ignore_index=True)"
      ],
      "metadata": {
        "execution": {
          "iopub.status.busy": "2023-12-14T10:59:33.006072Z",
          "iopub.execute_input": "2023-12-14T10:59:33.0065Z",
          "iopub.status.idle": "2023-12-14T10:59:33.016358Z",
          "shell.execute_reply.started": "2023-12-14T10:59:33.006471Z",
          "shell.execute_reply": "2023-12-14T10:59:33.014551Z"
        },
        "trusted": true,
        "id": "wDuRNetUmnHd"
      },
      "execution_count": null,
      "outputs": []
    },
    {
      "cell_type": "code",
      "source": [
        "# Plot the results using Seaborn\n",
        "sns.set(style='ticks')\n",
        "plt.figure(figsize=(10, 6))\n",
        "sns.scatterplot(x='Actual', y='Predicted', hue='Dataset', data=combined_data, s=100, alpha=0.8)\n",
        "plt.plot([min(y.min(), y_train_pred.min()) - 1, max(y.max(), y_train_pred.max()) + 1],\n",
        "         [min(y.min(), y_train_pred.min()) - 1, max(y.max(), y_train_pred.max()) + 1], 'k--')\n",
        "#labeling the axes\n",
        "plt.xlabel('Actual Values')\n",
        "plt.ylabel('Predicted Values')\n",
        "plt.title('Actual vs. Predicted (Training and Testing)')\n",
        "plt.legend()\n",
        "plt.grid(True)\n",
        "plt.show()"
      ],
      "metadata": {
        "execution": {
          "iopub.status.busy": "2023-12-14T10:59:52.309664Z",
          "iopub.execute_input": "2023-12-14T10:59:52.310117Z",
          "iopub.status.idle": "2023-12-14T10:59:52.85467Z",
          "shell.execute_reply.started": "2023-12-14T10:59:52.310087Z",
          "shell.execute_reply": "2023-12-14T10:59:52.853333Z"
        },
        "trusted": true,
        "id": "CCsTVdgLmnHe"
      },
      "execution_count": null,
      "outputs": []
    }
  ]
}